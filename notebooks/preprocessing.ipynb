{
 "cells": [
  {
   "cell_type": "code",
   "execution_count": 25,
   "id": "c82f25c3",
   "metadata": {},
   "outputs": [],
   "source": [
    "import pandas as pd\n",
    "import re\n",
    "import string"
   ]
  },
  {
   "cell_type": "code",
   "execution_count": 26,
   "id": "d05dd844",
   "metadata": {},
   "outputs": [],
   "source": [
    "# Load your CSV\n",
    "df = pd.read_csv('../data/bank_reviews_20250609_004921.csv')  "
   ]
  },
  {
   "cell_type": "code",
   "execution_count": 27,
   "id": "91f58ca0",
   "metadata": {},
   "outputs": [
    {
     "data": {
      "text/html": [
       "<div>\n",
       "<style scoped>\n",
       "    .dataframe tbody tr th:only-of-type {\n",
       "        vertical-align: middle;\n",
       "    }\n",
       "\n",
       "    .dataframe tbody tr th {\n",
       "        vertical-align: top;\n",
       "    }\n",
       "\n",
       "    .dataframe thead th {\n",
       "        text-align: right;\n",
       "    }\n",
       "</style>\n",
       "<table border=\"1\" class=\"dataframe\">\n",
       "  <thead>\n",
       "    <tr style=\"text-align: right;\">\n",
       "      <th></th>\n",
       "      <th>review_text</th>\n",
       "      <th>rating</th>\n",
       "      <th>date</th>\n",
       "      <th>bank_name</th>\n",
       "      <th>source</th>\n",
       "    </tr>\n",
       "  </thead>\n",
       "  <tbody>\n",
       "    <tr>\n",
       "      <th>0</th>\n",
       "      <td>kalid</td>\n",
       "      <td>5</td>\n",
       "      <td>2025-06-08</td>\n",
       "      <td>Dashen Bank</td>\n",
       "      <td>Google Play</td>\n",
       "    </tr>\n",
       "    <tr>\n",
       "      <th>1</th>\n",
       "      <td>I like this mobile banking app very much. Over...</td>\n",
       "      <td>2</td>\n",
       "      <td>2025-06-07</td>\n",
       "      <td>Dashen Bank</td>\n",
       "      <td>Google Play</td>\n",
       "    </tr>\n",
       "    <tr>\n",
       "      <th>2</th>\n",
       "      <td>love</td>\n",
       "      <td>3</td>\n",
       "      <td>2025-06-06</td>\n",
       "      <td>Dashen Bank</td>\n",
       "      <td>Google Play</td>\n",
       "    </tr>\n",
       "    <tr>\n",
       "      <th>3</th>\n",
       "      <td>መቸሸጠ</td>\n",
       "      <td>5</td>\n",
       "      <td>2025-06-03</td>\n",
       "      <td>Dashen Bank</td>\n",
       "      <td>Google Play</td>\n",
       "    </tr>\n",
       "    <tr>\n",
       "      <th>4</th>\n",
       "      <td>wow</td>\n",
       "      <td>5</td>\n",
       "      <td>2025-06-03</td>\n",
       "      <td>Dashen Bank</td>\n",
       "      <td>Google Play</td>\n",
       "    </tr>\n",
       "  </tbody>\n",
       "</table>\n",
       "</div>"
      ],
      "text/plain": [
       "                                         review_text  rating        date  \\\n",
       "0                                              kalid       5  2025-06-08   \n",
       "1  I like this mobile banking app very much. Over...       2  2025-06-07   \n",
       "2                                               love       3  2025-06-06   \n",
       "3                                               መቸሸጠ       5  2025-06-03   \n",
       "4                                                wow       5  2025-06-03   \n",
       "\n",
       "     bank_name       source  \n",
       "0  Dashen Bank  Google Play  \n",
       "1  Dashen Bank  Google Play  \n",
       "2  Dashen Bank  Google Play  \n",
       "3  Dashen Bank  Google Play  \n",
       "4  Dashen Bank  Google Play  "
      ]
     },
     "execution_count": 27,
     "metadata": {},
     "output_type": "execute_result"
    }
   ],
   "source": [
    "# Quick Look\n",
    "df.head()"
   ]
  },
  {
   "cell_type": "code",
   "execution_count": 28,
   "id": "0fd96393",
   "metadata": {},
   "outputs": [
    {
     "name": "stdout",
     "output_type": "stream",
     "text": [
      "Duplicates: 1\n"
     ]
    }
   ],
   "source": [
    "# Check Duplicates\n",
    "print(f\"Duplicates: {df.duplicated().sum()}\")\n",
    "df = df.drop_duplicates()# drop duplicates"
   ]
  },
  {
   "cell_type": "code",
   "execution_count": 29,
   "id": "fa771a04",
   "metadata": {},
   "outputs": [
    {
     "name": "stdout",
     "output_type": "stream",
     "text": [
      "Missing values:\n",
      "review_text    0\n",
      "rating         0\n",
      "date           0\n",
      "bank_name      0\n",
      "source         0\n",
      "dtype: int64\n"
     ]
    }
   ],
   "source": [
    "# Check Missing\n",
    "print(f\"Missing values:\\n{df.isnull().sum()}\")\n",
    "df = df.dropna()# erase missing"
   ]
  },
  {
   "cell_type": "code",
   "execution_count": 30,
   "id": "d05132c7",
   "metadata": {},
   "outputs": [],
   "source": [
    "# Normalize Dates\n",
    "df['date'] = pd.to_datetime(df['date'], errors='coerce')  # Convert to datetime\n",
    "df = df.dropna(subset=['date'])                           # Drop rows where date failed to convert\n",
    "df['date'] = df['date'].dt.strftime('%Y-%m-%d')            # Format back to string YYYY-MM-DD"
   ]
  },
  {
   "cell_type": "code",
   "execution_count": 31,
   "id": "99678f62",
   "metadata": {},
   "outputs": [],
   "source": [
    "# Clean Text\n",
    "def clean_text(text):\n",
    "    text = text.lower()  # lowercasing\n",
    "    text = re.sub(r'\\d+', '', text)  # remove numbers\n",
    "    text = text.translate(str.maketrans('', '', string.punctuation))  # remove punctuation\n",
    "    text = text.strip()  # remove leading/trailing whitespace\n",
    "    text = re.sub(r'\\s+', ' ', text)  # remove extra spaces\n",
    "    return text\n",
    "\n",
    "df['clean_review'] = df['review_text'].apply(clean_text)"
   ]
  },
  {
   "cell_type": "code",
   "execution_count": 32,
   "id": "423a51d6",
   "metadata": {},
   "outputs": [],
   "source": [
    "# Remove Very Short Reviews\n",
    "df = df[df['clean_review'].str.split().str.len() > 3]"
   ]
  },
  {
   "cell_type": "code",
   "execution_count": 33,
   "id": "b5b404bd",
   "metadata": {},
   "outputs": [],
   "source": [
    "# Save cleaned dataset\n",
    "df.to_csv('../data/bank_reviews_clean.csv', index=False)"
   ]
  },
  {
   "cell_type": "code",
   "execution_count": 38,
   "id": "74d1f90a",
   "metadata": {},
   "outputs": [
    {
     "data": {
      "text/html": [
       "<div>\n",
       "<style scoped>\n",
       "    .dataframe tbody tr th:only-of-type {\n",
       "        vertical-align: middle;\n",
       "    }\n",
       "\n",
       "    .dataframe tbody tr th {\n",
       "        vertical-align: top;\n",
       "    }\n",
       "\n",
       "    .dataframe thead th {\n",
       "        text-align: right;\n",
       "    }\n",
       "</style>\n",
       "<table border=\"1\" class=\"dataframe\">\n",
       "  <thead>\n",
       "    <tr style=\"text-align: right;\">\n",
       "      <th></th>\n",
       "      <th>review_text</th>\n",
       "      <th>rating</th>\n",
       "      <th>date</th>\n",
       "      <th>bank_name</th>\n",
       "      <th>source</th>\n",
       "      <th>clean_review</th>\n",
       "    </tr>\n",
       "  </thead>\n",
       "  <tbody>\n",
       "    <tr>\n",
       "      <th>1</th>\n",
       "      <td>I like this mobile banking app very much. Over...</td>\n",
       "      <td>2</td>\n",
       "      <td>2025-06-07</td>\n",
       "      <td>Dashen Bank</td>\n",
       "      <td>Google Play</td>\n",
       "      <td>i like this mobile banking app very much overa...</td>\n",
       "    </tr>\n",
       "    <tr>\n",
       "      <th>6</th>\n",
       "      <td>Massive upgrade from the Amole app.</td>\n",
       "      <td>5</td>\n",
       "      <td>2025-05-31</td>\n",
       "      <td>Dashen Bank</td>\n",
       "      <td>Google Play</td>\n",
       "      <td>massive upgrade from the amole app</td>\n",
       "    </tr>\n",
       "    <tr>\n",
       "      <th>8</th>\n",
       "      <td>very good for this app</td>\n",
       "      <td>5</td>\n",
       "      <td>2025-05-31</td>\n",
       "      <td>Dashen Bank</td>\n",
       "      <td>Google Play</td>\n",
       "      <td>very good for this app</td>\n",
       "    </tr>\n",
       "    <tr>\n",
       "      <th>10</th>\n",
       "      <td>this app better than Amole . but the biometric...</td>\n",
       "      <td>4</td>\n",
       "      <td>2025-05-31</td>\n",
       "      <td>Dashen Bank</td>\n",
       "      <td>Google Play</td>\n",
       "      <td>this app better than amole but the biometric o...</td>\n",
       "    </tr>\n",
       "    <tr>\n",
       "      <th>13</th>\n",
       "      <td>wow to it saff and this app</td>\n",
       "      <td>5</td>\n",
       "      <td>2025-05-30</td>\n",
       "      <td>Dashen Bank</td>\n",
       "      <td>Google Play</td>\n",
       "      <td>wow to it saff and this app</td>\n",
       "    </tr>\n",
       "  </tbody>\n",
       "</table>\n",
       "</div>"
      ],
      "text/plain": [
       "                                          review_text  rating        date  \\\n",
       "1   I like this mobile banking app very much. Over...       2  2025-06-07   \n",
       "6                 Massive upgrade from the Amole app.       5  2025-05-31   \n",
       "8                              very good for this app       5  2025-05-31   \n",
       "10  this app better than Amole . but the biometric...       4  2025-05-31   \n",
       "13                        wow to it saff and this app       5  2025-05-30   \n",
       "\n",
       "      bank_name       source  \\\n",
       "1   Dashen Bank  Google Play   \n",
       "6   Dashen Bank  Google Play   \n",
       "8   Dashen Bank  Google Play   \n",
       "10  Dashen Bank  Google Play   \n",
       "13  Dashen Bank  Google Play   \n",
       "\n",
       "                                         clean_review  \n",
       "1   i like this mobile banking app very much overa...  \n",
       "6                  massive upgrade from the amole app  \n",
       "8                              very good for this app  \n",
       "10  this app better than amole but the biometric o...  \n",
       "13                        wow to it saff and this app  "
      ]
     },
     "execution_count": 38,
     "metadata": {},
     "output_type": "execute_result"
    }
   ],
   "source": [
    "\n",
    "df.head()"
   ]
  }
 ],
 "metadata": {
  "kernelspec": {
   "display_name": "venv",
   "language": "python",
   "name": "python3"
  },
  "language_info": {
   "codemirror_mode": {
    "name": "ipython",
    "version": 3
   },
   "file_extension": ".py",
   "mimetype": "text/x-python",
   "name": "python",
   "nbconvert_exporter": "python",
   "pygments_lexer": "ipython3",
   "version": "3.11.4"
  }
 },
 "nbformat": 4,
 "nbformat_minor": 5
}
