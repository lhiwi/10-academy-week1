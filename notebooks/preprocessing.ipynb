{
 "cells": [
  {
   "cell_type": "markdown",
   "id": "70dd5d23",
   "metadata": {},
   "source": [
    "## Task 1: Data Collection and Preprocessing"
   ]
  },
  {
   "cell_type": "code",
   "execution_count": 52,
   "id": "c82f25c3",
   "metadata": {},
   "outputs": [],
   "source": [
    "import pandas as pd\n",
    "import re\n",
    "import string"
   ]
  },
  {
   "cell_type": "code",
   "execution_count": 48,
   "id": "0ac3673b",
   "metadata": {},
   "outputs": [
    {
     "name": "stdout",
     "output_type": "stream",
     "text": [
      "bank_name\n",
      "Commercial Bank of Ethiopia    500\n",
      "Bank of Abyssinia              500\n",
      "Dashen Bank                    450\n",
      "Name: count, dtype: int64\n"
     ]
    }
   ],
   "source": [
    "original_df = pd.read_csv('../data/bank_reviews_20250609_035132.csv')\n",
    "print(original_df['bank_name'].value_counts())"
   ]
  },
  {
   "cell_type": "code",
   "execution_count": 54,
   "id": "d05dd844",
   "metadata": {},
   "outputs": [],
   "source": [
    "# Load your CSV\n",
    "df = pd.read_csv('../data/bank_reviews_20250609_035132.csv')  "
   ]
  },
  {
   "cell_type": "code",
   "execution_count": 55,
   "id": "91f58ca0",
   "metadata": {},
   "outputs": [
    {
     "data": {
      "text/html": [
       "<div>\n",
       "<style scoped>\n",
       "    .dataframe tbody tr th:only-of-type {\n",
       "        vertical-align: middle;\n",
       "    }\n",
       "\n",
       "    .dataframe tbody tr th {\n",
       "        vertical-align: top;\n",
       "    }\n",
       "\n",
       "    .dataframe thead th {\n",
       "        text-align: right;\n",
       "    }\n",
       "</style>\n",
       "<table border=\"1\" class=\"dataframe\">\n",
       "  <thead>\n",
       "    <tr style=\"text-align: right;\">\n",
       "      <th></th>\n",
       "      <th>review_text</th>\n",
       "      <th>rating</th>\n",
       "      <th>date</th>\n",
       "      <th>bank_name</th>\n",
       "      <th>source</th>\n",
       "    </tr>\n",
       "  </thead>\n",
       "  <tbody>\n",
       "    <tr>\n",
       "      <th>0</th>\n",
       "      <td>A great app. It's like carrying a bank in your...</td>\n",
       "      <td>4</td>\n",
       "      <td>2025-06-07</td>\n",
       "      <td>Commercial Bank of Ethiopia</td>\n",
       "      <td>Google Play</td>\n",
       "    </tr>\n",
       "    <tr>\n",
       "      <th>1</th>\n",
       "      <td>More than garrantty bank EBC.</td>\n",
       "      <td>4</td>\n",
       "      <td>2025-06-07</td>\n",
       "      <td>Commercial Bank of Ethiopia</td>\n",
       "      <td>Google Play</td>\n",
       "    </tr>\n",
       "    <tr>\n",
       "      <th>2</th>\n",
       "      <td>really am happy to this app it is Siple to use...</td>\n",
       "      <td>5</td>\n",
       "      <td>2025-06-07</td>\n",
       "      <td>Commercial Bank of Ethiopia</td>\n",
       "      <td>Google Play</td>\n",
       "    </tr>\n",
       "    <tr>\n",
       "      <th>3</th>\n",
       "      <td>I liked this app. But the User interface is ve...</td>\n",
       "      <td>2</td>\n",
       "      <td>2025-06-07</td>\n",
       "      <td>Commercial Bank of Ethiopia</td>\n",
       "      <td>Google Play</td>\n",
       "    </tr>\n",
       "    <tr>\n",
       "      <th>4</th>\n",
       "      <td>\"Why don’t your ATMs support account-to-accoun...</td>\n",
       "      <td>4</td>\n",
       "      <td>2025-06-06</td>\n",
       "      <td>Commercial Bank of Ethiopia</td>\n",
       "      <td>Google Play</td>\n",
       "    </tr>\n",
       "  </tbody>\n",
       "</table>\n",
       "</div>"
      ],
      "text/plain": [
       "                                         review_text  rating        date  \\\n",
       "0  A great app. It's like carrying a bank in your...       4  2025-06-07   \n",
       "1                      More than garrantty bank EBC.       4  2025-06-07   \n",
       "2  really am happy to this app it is Siple to use...       5  2025-06-07   \n",
       "3  I liked this app. But the User interface is ve...       2  2025-06-07   \n",
       "4  \"Why don’t your ATMs support account-to-accoun...       4  2025-06-06   \n",
       "\n",
       "                     bank_name       source  \n",
       "0  Commercial Bank of Ethiopia  Google Play  \n",
       "1  Commercial Bank of Ethiopia  Google Play  \n",
       "2  Commercial Bank of Ethiopia  Google Play  \n",
       "3  Commercial Bank of Ethiopia  Google Play  \n",
       "4  Commercial Bank of Ethiopia  Google Play  "
      ]
     },
     "execution_count": 55,
     "metadata": {},
     "output_type": "execute_result"
    }
   ],
   "source": [
    "# Quick Look\n",
    "df.head()"
   ]
  },
  {
   "cell_type": "code",
   "execution_count": 56,
   "id": "0fd96393",
   "metadata": {},
   "outputs": [
    {
     "name": "stdout",
     "output_type": "stream",
     "text": [
      "Duplicates: 18\n"
     ]
    }
   ],
   "source": [
    "# Check Duplicates\n",
    "print(f\"Duplicates: {df.duplicated().sum()}\")\n",
    "df = df.drop_duplicates()# drop duplicates"
   ]
  },
  {
   "cell_type": "code",
   "execution_count": 57,
   "id": "fa771a04",
   "metadata": {},
   "outputs": [
    {
     "name": "stdout",
     "output_type": "stream",
     "text": [
      "Missing values:\n",
      "review_text    0\n",
      "rating         0\n",
      "date           0\n",
      "bank_name      0\n",
      "source         0\n",
      "dtype: int64\n"
     ]
    }
   ],
   "source": [
    "# Check Missing\n",
    "print(f\"Missing values:\\n{df.isnull().sum()}\")\n",
    "df = df.dropna()# erase missing"
   ]
  },
  {
   "cell_type": "code",
   "execution_count": 58,
   "id": "d05132c7",
   "metadata": {},
   "outputs": [],
   "source": [
    "# Normalize Dates\n",
    "df['date'] = pd.to_datetime(df['date'], errors='coerce')  # Convert to datetime\n",
    "df = df.dropna(subset=['date'])                           # Drop rows where date failed to convert\n",
    "df['date'] = df['date'].dt.strftime('%Y-%m-%d')            # Format back to string YYYY-MM-DD"
   ]
  },
  {
   "cell_type": "code",
   "execution_count": 60,
   "id": "99678f62",
   "metadata": {},
   "outputs": [],
   "source": [
    "# Clean Text\n",
    "def clean_text(text):\n",
    "    text = text.lower()  # lowercasing\n",
    "    text = re.sub(r'\\d+', '', text)  # remove numbers\n",
    "    text = text.translate(str.maketrans('', '', string.punctuation))  # remove punctuation\n",
    "    text = text.strip()  # remove leading/trailing whitespace\n",
    "    text = re.sub(r'\\s+', ' ', text)  # remove extra spaces\n",
    "    return text\n",
    "\n",
    "df['clean_review'] = df['review_text'].apply(clean_text)"
   ]
  },
  {
   "cell_type": "code",
   "execution_count": 61,
   "id": "423a51d6",
   "metadata": {},
   "outputs": [],
   "source": [
    "# Remove Very Short Reviews\n",
    "df = df[df['clean_review'].str.split().str.len() > 3]"
   ]
  },
  {
   "cell_type": "code",
   "execution_count": 62,
   "id": "b5b404bd",
   "metadata": {},
   "outputs": [],
   "source": [
    "# Save cleaned dataset\n",
    "df.to_csv('../data/bank_reviews_clean.csv', index=False)"
   ]
  },
  {
   "cell_type": "code",
   "execution_count": 64,
   "id": "74d1f90a",
   "metadata": {},
   "outputs": [
    {
     "data": {
      "text/html": [
       "<div>\n",
       "<style scoped>\n",
       "    .dataframe tbody tr th:only-of-type {\n",
       "        vertical-align: middle;\n",
       "    }\n",
       "\n",
       "    .dataframe tbody tr th {\n",
       "        vertical-align: top;\n",
       "    }\n",
       "\n",
       "    .dataframe thead th {\n",
       "        text-align: right;\n",
       "    }\n",
       "</style>\n",
       "<table border=\"1\" class=\"dataframe\">\n",
       "  <thead>\n",
       "    <tr style=\"text-align: right;\">\n",
       "      <th></th>\n",
       "      <th>review_text</th>\n",
       "      <th>rating</th>\n",
       "      <th>date</th>\n",
       "      <th>bank_name</th>\n",
       "      <th>source</th>\n",
       "      <th>clean_review</th>\n",
       "    </tr>\n",
       "  </thead>\n",
       "  <tbody>\n",
       "    <tr>\n",
       "      <th>0</th>\n",
       "      <td>A great app. It's like carrying a bank in your...</td>\n",
       "      <td>4</td>\n",
       "      <td>2025-06-07</td>\n",
       "      <td>Commercial Bank of Ethiopia</td>\n",
       "      <td>Google Play</td>\n",
       "      <td>a great app its like carrying a bank in your p...</td>\n",
       "    </tr>\n",
       "    <tr>\n",
       "      <th>1</th>\n",
       "      <td>More than garrantty bank EBC.</td>\n",
       "      <td>4</td>\n",
       "      <td>2025-06-07</td>\n",
       "      <td>Commercial Bank of Ethiopia</td>\n",
       "      <td>Google Play</td>\n",
       "      <td>more than garrantty bank ebc</td>\n",
       "    </tr>\n",
       "    <tr>\n",
       "      <th>2</th>\n",
       "      <td>really am happy to this app it is Siple to use...</td>\n",
       "      <td>5</td>\n",
       "      <td>2025-06-07</td>\n",
       "      <td>Commercial Bank of Ethiopia</td>\n",
       "      <td>Google Play</td>\n",
       "      <td>really am happy to this app it is siple to use...</td>\n",
       "    </tr>\n",
       "    <tr>\n",
       "      <th>3</th>\n",
       "      <td>I liked this app. But the User interface is ve...</td>\n",
       "      <td>2</td>\n",
       "      <td>2025-06-07</td>\n",
       "      <td>Commercial Bank of Ethiopia</td>\n",
       "      <td>Google Play</td>\n",
       "      <td>i liked this app but the user interface is ver...</td>\n",
       "    </tr>\n",
       "    <tr>\n",
       "      <th>4</th>\n",
       "      <td>\"Why don’t your ATMs support account-to-accoun...</td>\n",
       "      <td>4</td>\n",
       "      <td>2025-06-06</td>\n",
       "      <td>Commercial Bank of Ethiopia</td>\n",
       "      <td>Google Play</td>\n",
       "      <td>why don’t your atms support accounttoaccount t...</td>\n",
       "    </tr>\n",
       "  </tbody>\n",
       "</table>\n",
       "</div>"
      ],
      "text/plain": [
       "                                         review_text  rating        date  \\\n",
       "0  A great app. It's like carrying a bank in your...       4  2025-06-07   \n",
       "1                      More than garrantty bank EBC.       4  2025-06-07   \n",
       "2  really am happy to this app it is Siple to use...       5  2025-06-07   \n",
       "3  I liked this app. But the User interface is ve...       2  2025-06-07   \n",
       "4  \"Why don’t your ATMs support account-to-accoun...       4  2025-06-06   \n",
       "\n",
       "                     bank_name       source  \\\n",
       "0  Commercial Bank of Ethiopia  Google Play   \n",
       "1  Commercial Bank of Ethiopia  Google Play   \n",
       "2  Commercial Bank of Ethiopia  Google Play   \n",
       "3  Commercial Bank of Ethiopia  Google Play   \n",
       "4  Commercial Bank of Ethiopia  Google Play   \n",
       "\n",
       "                                        clean_review  \n",
       "0  a great app its like carrying a bank in your p...  \n",
       "1                       more than garrantty bank ebc  \n",
       "2  really am happy to this app it is siple to use...  \n",
       "3  i liked this app but the user interface is ver...  \n",
       "4  why don’t your atms support accounttoaccount t...  "
      ]
     },
     "execution_count": 64,
     "metadata": {},
     "output_type": "execute_result"
    }
   ],
   "source": [
    "\n",
    "df.head()"
   ]
  }
 ],
 "metadata": {
  "kernelspec": {
   "display_name": "venv",
   "language": "python",
   "name": "python3"
  },
  "language_info": {
   "codemirror_mode": {
    "name": "ipython",
    "version": 3
   },
   "file_extension": ".py",
   "mimetype": "text/x-python",
   "name": "python",
   "nbconvert_exporter": "python",
   "pygments_lexer": "ipython3",
   "version": "3.11.4"
  }
 },
 "nbformat": 4,
 "nbformat_minor": 5
}
